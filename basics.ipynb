{
 "cells": [
  {
   "cell_type": "code",
   "execution_count": null,
   "id": "2573d3e4",
   "metadata": {},
   "outputs": [],
   "source": [
    "a=10"
   ]
  },
  {
   "cell_type": "code",
   "execution_count": null,
   "id": "c8513751",
   "metadata": {},
   "outputs": [],
   "source": [
    "type(a)"
   ]
  },
  {
   "cell_type": "code",
   "execution_count": null,
   "id": "665d42b6",
   "metadata": {},
   "outputs": [],
   "source": [
    "h='6'"
   ]
  },
  {
   "cell_type": "code",
   "execution_count": null,
   "id": "2fce257f",
   "metadata": {},
   "outputs": [],
   "source": [
    "h"
   ]
  },
  {
   "cell_type": "code",
   "execution_count": null,
   "id": "857709f1",
   "metadata": {},
   "outputs": [],
   "source": [
    "a"
   ]
  },
  {
   "cell_type": "code",
   "execution_count": null,
   "id": "be66c275",
   "metadata": {},
   "outputs": [],
   "source": [
    "25+100"
   ]
  },
  {
   "cell_type": "code",
   "execution_count": null,
   "id": "da793543",
   "metadata": {},
   "outputs": [],
   "source": [
    "125+785"
   ]
  },
  {
   "cell_type": "code",
   "execution_count": null,
   "id": "e846b9ba",
   "metadata": {},
   "outputs": [],
   "source": [
    "46+457*53/74"
   ]
  },
  {
   "cell_type": "code",
   "execution_count": null,
   "id": "f8291f13",
   "metadata": {},
   "outputs": [],
   "source": [
    "-4"
   ]
  },
  {
   "cell_type": "code",
   "execution_count": null,
   "id": "70116543",
   "metadata": {},
   "outputs": [],
   "source": [
    "45-76"
   ]
  },
  {
   "cell_type": "code",
   "execution_count": null,
   "id": "3f0ecc8d",
   "metadata": {},
   "outputs": [],
   "source": [
    "b='Devilrider'"
   ]
  },
  {
   "cell_type": "code",
   "execution_count": null,
   "id": "be5e683b",
   "metadata": {},
   "outputs": [],
   "source": [
    "print(f\"Iam the {b}\")"
   ]
  },
  {
   "cell_type": "markdown",
   "id": "3a1a144f",
   "metadata": {},
   "source": [
    "Range"
   ]
  },
  {
   "cell_type": "code",
   "execution_count": null,
   "id": "01b2c6c1",
   "metadata": {},
   "outputs": [],
   "source": [
    "var2={\"sethu\":\"data \",2:\"mca\"}"
   ]
  },
  {
   "cell_type": "code",
   "execution_count": null,
   "id": "8ac0584c",
   "metadata": {},
   "outputs": [],
   "source": [
    "var2[\"sethu\"]"
   ]
  },
  {
   "cell_type": "code",
   "execution_count": null,
   "id": "e2cb8cb1",
   "metadata": {},
   "outputs": [],
   "source": [
    "var1=range(1,36,8)"
   ]
  },
  {
   "cell_type": "code",
   "execution_count": null,
   "id": "ca89e19b",
   "metadata": {},
   "outputs": [],
   "source": [
    "print(list(var1))"
   ]
  },
  {
   "cell_type": "code",
   "execution_count": null,
   "id": "f1df6981",
   "metadata": {},
   "outputs": [],
   "source": [
    "var4=frozenset({1,45,46,54,46,4})"
   ]
  },
  {
   "cell_type": "code",
   "execution_count": null,
   "id": "6bf9f396",
   "metadata": {},
   "outputs": [],
   "source": [
    "timenow=input(\"Enter Time\")\n",
    "notification={1:\"This is morning\",2:\"This is afternoon\"}\n",
    "if int(timenow)<12:\n",
    "    print(f\"{notification[1]} wakeup\")\n",
    "elif int(timenow)>12:\n",
    "    print(notification[2])"
   ]
  },
  {
   "cell_type": "code",
   "execution_count": null,
   "id": "953e82b1",
   "metadata": {},
   "outputs": [],
   "source": [
    "Tcs=int(input(\"Enter total seat capacity:\"))\n",
    "counter=1\n",
    "while counter<=Tcs/2:\n",
    "    print(\"your journey is not confirmed\")\n",
    "    if counter==1:\n",
    "        print(f\"only {counter} ticket is booked\")\n",
    "    elif counter>1:\n",
    "        print(f\"only {counter} tickets are booked\")\n",
    "    counter+=1\n",
    "print(\"50% of the tickets are filled.Your journey confirmed\")"
   ]
  },
  {
   "cell_type": "code",
   "execution_count": null,
   "id": "080532d3",
   "metadata": {},
   "outputs": [],
   "source": [
    "inp=int(input(\"Enter input:\"))\n",
    "counter=0\n",
    "x=0\n",
    "y=1\n",
    "while counter<=inp:\n",
    "    z=x+y\n",
    "    x=y\n",
    "    y=z\n",
    "    print(z)\n",
    "    counter+=1"
   ]
  },
  {
   "cell_type": "code",
   "execution_count": 8,
   "id": "eb9e4a81",
   "metadata": {},
   "outputs": [],
   "source": [
    "def add(a,b):\n",
    "    c=a+b\n",
    "    print(c)"
   ]
  },
  {
   "cell_type": "code",
   "execution_count": 9,
   "id": "cb5377bf",
   "metadata": {},
   "outputs": [
    {
     "name": "stdout",
     "output_type": "stream",
     "text": [
      "11\n"
     ]
    }
   ],
   "source": [
    "add(5,6)"
   ]
  },
  {
   "cell_type": "code",
   "execution_count": null,
   "id": "b73e8045",
   "metadata": {},
   "outputs": [],
   "source": []
  }
 ],
 "metadata": {
  "kernelspec": {
   "display_name": "Python 3 (ipykernel)",
   "language": "python",
   "name": "python3"
  },
  "language_info": {
   "codemirror_mode": {
    "name": "ipython",
    "version": 3
   },
   "file_extension": ".py",
   "mimetype": "text/x-python",
   "name": "python",
   "nbconvert_exporter": "python",
   "pygments_lexer": "ipython3",
   "version": "3.10.8"
  }
 },
 "nbformat": 4,
 "nbformat_minor": 5
}
